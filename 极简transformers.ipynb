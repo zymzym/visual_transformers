{
  "nbformat": 4,
  "nbformat_minor": 0,
  "metadata": {
    "colab": {
      "provenance": [],
      "authorship_tag": "ABX9TyNhB9uHPbm6OF7n6y++H/1C",
      "include_colab_link": true
    },
    "kernelspec": {
      "name": "python3",
      "display_name": "Python 3"
    },
    "language_info": {
      "name": "python"
    }
  },
  "cells": [
    {
      "cell_type": "markdown",
      "metadata": {
        "id": "view-in-github",
        "colab_type": "text"
      },
      "source": [
        "<a href=\"https://colab.research.google.com/github/zymzym/visual_transformers/blob/main/%E6%9E%81%E7%AE%80transformers.ipynb\" target=\"_parent\"><img src=\"https://colab.research.google.com/assets/colab-badge.svg\" alt=\"Open In Colab\"/></a>"
      ]
    },
    {
      "cell_type": "code",
      "execution_count": null,
      "metadata": {
        "id": "VbcMco2aejUe",
        "colab": {
          "base_uri": "https://localhost:8080/"
        },
        "outputId": "022bfa51-418a-435d-8261-4858e27c24bf"
      },
      "outputs": [
        {
          "output_type": "stream",
          "name": "stdout",
          "text": [
            "--2024-12-23 10:20:02--  https://raw.githubusercontent.com/hankinghu/literature-books/refs/heads/master/%E7%BA%A2%E6%A5%BC%E6%A2%A6.txt\n",
            "Resolving raw.githubusercontent.com (raw.githubusercontent.com)... 185.199.109.133, 185.199.108.133, 185.199.110.133, ...\n",
            "Connecting to raw.githubusercontent.com (raw.githubusercontent.com)|185.199.109.133|:443... connected.\n",
            "HTTP request sent, awaiting response... 200 OK\n",
            "Length: 2570501 (2.5M) [application/octet-stream]\n",
            "Saving to: ‘红楼梦.txt’\n",
            "\n",
            "红楼梦.txt          100%[===================>]   2.45M  --.-KB/s    in 0.08s   \n",
            "\n",
            "2024-12-23 10:20:02 (30.7 MB/s) - ‘红楼梦.txt’ saved [2570501/2570501]\n",
            "\n"
          ]
        }
      ],
      "source": [
        "# 1. 我们有一个文本，下面是《红楼梦》的txt\n",
        "!wget https://raw.githubusercontent.com/hankinghu/literature-books/refs/heads/master/%E7%BA%A2%E6%A5%BC%E6%A2%A6.txt"
      ]
    },
    {
      "cell_type": "code",
      "source": [
        "# 2. 确定字典的大小\n",
        "with open(\"红楼梦.txt\") as f:\n",
        "  inputs = f.read()\n",
        "print(inputs[:30])\n",
        "\n",
        "vocab = set(list(inputs))\n",
        "vocab_size = len(vocab)\n",
        "print(f\"字典的大小是：{vocab_size}\")"
      ],
      "metadata": {
        "colab": {
          "base_uri": "https://localhost:8080/"
        },
        "id": "LO8LRoM1frIS",
        "outputId": "5f45e83a-c2b2-4694-da09-f8e83ef429b1"
      },
      "execution_count": null,
      "outputs": [
        {
          "output_type": "stream",
          "name": "stdout",
          "text": [
            "第1章 甄士隐梦幻识通灵 贾雨村风尘怀闺秀\n",
            "　　此开卷第一回\n",
            "字典的大小是：4244\n"
          ]
        }
      ]
    },
    {
      "cell_type": "code",
      "source": [
        "# 3. 字->数字（1，2，3......)\n",
        "mapping = {i:index for index,i in enumerate(list(set(inputs)))}\n",
        "print(list(mapping.items())[:10])\n",
        "\n",
        "inputs_int = [mapping.get(s, 99999) for s in inputs]\n",
        "print(x[:10])"
      ],
      "metadata": {
        "id": "mOlFDlimh1mQ",
        "colab": {
          "base_uri": "https://localhost:8080/"
        },
        "outputId": "9f950734-7a13-41b9-9df2-71330e572918"
      },
      "execution_count": null,
      "outputs": [
        {
          "output_type": "stream",
          "name": "stdout",
          "text": [
            "[('蚱', 0), ('挟', 1), ('枰', 2), ('丧', 3), ('掣', 4), ('绰', 5), ('醺', 6), ('外', 7), ('葛', 8), ('幼', 9)]\n",
            "tensor([[1699, 2948, 4217, 2616, 3490,   66, 1501, 2759],\n",
            "        [2948, 4217, 2616, 3490,   66, 1501, 2759,  924],\n",
            "        [4217, 2616, 3490,   66, 1501, 2759,  924,   58],\n",
            "        [2616, 3490,   66, 1501, 2759,  924,   58, 3624],\n",
            "        [3490,   66, 1501, 2759,  924,   58, 3624, 3882],\n",
            "        [  66, 1501, 2759,  924,   58, 3624, 3882, 2616],\n",
            "        [1501, 2759,  924,   58, 3624, 3882, 2616, 1403],\n",
            "        [2759,  924,   58, 3624, 3882, 2616, 1403, 1383],\n",
            "        [ 924,   58, 3624, 3882, 2616, 1403, 1383,  910],\n",
            "        [  58, 3624, 3882, 2616, 1403, 1383,  910, 1956]])\n"
          ]
        }
      ]
    },
    {
      "cell_type": "code",
      "source": [
        "# 4. 确定block_size大小\n",
        "block_size = 8"
      ],
      "metadata": {
        "id": "tthY8YknC8fv"
      },
      "execution_count": null,
      "outputs": []
    },
    {
      "cell_type": "code",
      "source": [
        "# 5. 设置block_size大小的结构（好抽象一句话）\n",
        "num_blocks = int(len(inputs_int) / 8)"
      ],
      "metadata": {
        "id": "dES-ks7XNByv"
      },
      "execution_count": null,
      "outputs": []
    },
    {
      "cell_type": "code",
      "source": [
        "# 6. 设置x,y的结构\n",
        "x = torch.stack([torch.tensor(inputs_int[i:i+block_size]) for i in range(num_blocks)])\n",
        "y = torch.stack([torch.tensor(inputs_int[i:i+block_size]) for i in range(1, num_blocks+1)])\n",
        "print(f'x的形状是：{x.shape}')\n",
        "print(f'y的形状是：{y.shape}')"
      ],
      "metadata": {
        "id": "tGB6ORGLQPWP"
      },
      "execution_count": null,
      "outputs": []
    },
    {
      "cell_type": "code",
      "source": [
        "# 7. 数字映射到嵌入层维度\n",
        "from torch import nn\n",
        "num_embeddings = 32 # 嵌入层维度\n",
        "embedding = nn.Embedding(vocab_size, num_embeddings)\n",
        "wte = embedding(x)\n",
        "print(f\"wte的形状是{wte.shape}\")"
      ],
      "metadata": {
        "colab": {
          "base_uri": "https://localhost:8080/"
        },
        "id": "CHw_JphITr2m",
        "outputId": "210d52ef-398a-484d-e936-4386c4ee0ba7"
      },
      "execution_count": null,
      "outputs": [
        {
          "output_type": "stream",
          "name": "stdout",
          "text": [
            "wte的形状是torch.Size([107328, 8, 32])\n"
          ]
        }
      ]
    },
    {
      "cell_type": "code",
      "source": [
        "# 8. 位置编码\n",
        "wpe = torch.randn((block_size, num_embeddings)) # 为什么要使用num_embeddings呢？为了顺利和wte加起来。\n",
        "print(f\"wpe的形状是{wpe.shape}\")"
      ],
      "metadata": {
        "colab": {
          "base_uri": "https://localhost:8080/"
        },
        "id": "0Mbp4hcZR0vQ",
        "outputId": "9637a123-8552-40a3-994a-54aefba4bbfa"
      },
      "execution_count": null,
      "outputs": [
        {
          "output_type": "stream",
          "name": "stdout",
          "text": [
            "wpe的形状是torch.Size([8, 32])\n"
          ]
        }
      ]
    },
    {
      "cell_type": "code",
      "source": [
        "# 9. 把位置编码和token编码加起来\n",
        "X = wpe + wte\n",
        "print(f\"X的形状是：{X.shape}\")"
      ],
      "metadata": {
        "colab": {
          "base_uri": "https://localhost:8080/"
        },
        "id": "F1mhCFVwTpbd",
        "outputId": "026941cc-9237-42ea-b557-8cb725ec27f1"
      },
      "execution_count": null,
      "outputs": [
        {
          "output_type": "stream",
          "name": "stdout",
          "text": [
            "X的形状是：torch.Size([107328, 8, 32])\n"
          ]
        }
      ]
    },
    {
      "cell_type": "code",
      "source": [],
      "metadata": {
        "id": "5QhRaOm8TqX0"
      },
      "execution_count": null,
      "outputs": []
    }
  ]
}